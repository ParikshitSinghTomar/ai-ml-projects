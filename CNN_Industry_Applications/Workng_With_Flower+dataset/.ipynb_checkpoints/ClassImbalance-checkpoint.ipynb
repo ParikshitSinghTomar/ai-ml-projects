{
 "cells": [
  {
   "cell_type": "code",
   "execution_count": 19,
   "metadata": {},
   "outputs": [
    {
     "name": "stdout",
     "output_type": "stream",
     "text": [
      "/home/parikshit.tomar/anaconda3/lib/python3.8/site-packages/secretstorage/dhcrypto.py:16: CryptographyDeprecationWarning: int_from_bytes is deprecated, use int.from_bytes instead\n",
      "  from cryptography.utils import int_from_bytes\n",
      "/home/parikshit.tomar/anaconda3/lib/python3.8/site-packages/secretstorage/util.py:25: CryptographyDeprecationWarning: int_from_bytes is deprecated, use int.from_bytes instead\n",
      "  from cryptography.utils import int_from_bytes\n",
      "Requirement already satisfied: Augmentor in /home/parikshit.tomar/anaconda3/lib/python3.8/site-packages (0.2.8)\n",
      "Requirement already satisfied: future>=0.16.0 in /home/parikshit.tomar/anaconda3/lib/python3.8/site-packages (from Augmentor) (0.18.2)\n",
      "Requirement already satisfied: numpy>=1.11.0 in /home/parikshit.tomar/anaconda3/lib/python3.8/site-packages (from Augmentor) (1.18.5)\n",
      "Requirement already satisfied: Pillow>=5.2.0 in /home/parikshit.tomar/anaconda3/lib/python3.8/site-packages (from Augmentor) (7.2.0)\n",
      "Requirement already satisfied: tqdm>=4.9.0 in /home/parikshit.tomar/anaconda3/lib/python3.8/site-packages (from Augmentor) (4.47.0)\n"
     ]
    }
   ],
   "source": [
    "!pip install Augmentor"
   ]
  },
  {
   "cell_type": "code",
   "execution_count": 12,
   "metadata": {},
   "outputs": [],
   "source": [
    "import pathlib\n",
    "import tensorflow as tf\n",
    "import matplotlib.pyplot as plt\n",
    "import numpy as np\n",
    "import pandas as pd\n",
    "import os\n",
    "import PIL\n",
    "from tensorflow import keras\n",
    "from tensorflow.keras import layers\n",
    "from tensorflow.keras.models import Sequential"
   ]
  },
  {
   "cell_type": "code",
   "execution_count": 21,
   "metadata": {},
   "outputs": [],
   "source": [
    "path_to_train_directory='/home/parikshit.tomar/Desktop/Python/Upgrad/python/Resources/python-AI-LM/Upgrade/All Modules/5_Neural_Network/03_CNN_Assignmen/skin_cancer_ds/Train'\n",
    "path_to_test_directory='/home/parikshit.tomar/Desktop/Python/Upgrad/python/Resources/python-AI-LM/Upgrade/All Modules/5_Neural_Network/03_CNN_Assignmen/skin_cancer_ds/Test'\n",
    "data_dir_train = pathlib.Path(path_to_train_directory)\n",
    "data_dir_test = pathlib.Path(path_to_test_directory)"
   ]
  },
  {
   "cell_type": "code",
   "execution_count": 22,
   "metadata": {},
   "outputs": [
    {
     "name": "stdout",
     "output_type": "stream",
     "text": [
      "2239\n",
      "118\n"
     ]
    }
   ],
   "source": [
    "image_count_train = len(list(data_dir_train.glob('*/*.jpg')))\n",
    "print(image_count_train)\n",
    "image_count_test = len(list(data_dir_test.glob('*/*.jpg')))\n",
    "print(image_count_test)"
   ]
  },
  {
   "cell_type": "code",
   "execution_count": 23,
   "metadata": {},
   "outputs": [],
   "source": [
    "batch_size = 32\n",
    "img_height = 180\n",
    "img_width = 180"
   ]
  },
  {
   "cell_type": "code",
   "execution_count": 24,
   "metadata": {},
   "outputs": [
    {
     "name": "stdout",
     "output_type": "stream",
     "text": [
      "Found 2239 files belonging to 9 classes.\n",
      "Using 1792 files for training.\n"
     ]
    }
   ],
   "source": [
    "## Write your train dataset here\n",
    "## Note use seed=123 while creating your dataset using tf.keras.preprocessing.image_dataset_from_directory\n",
    "## Note, make sure your resize your images to the size img_height*img_width, while writting the dataset\n",
    "train_ds = tf.keras.preprocessing.image_dataset_from_directory(\n",
    "    data_dir_train, \n",
    "    batch_size=batch_size,\n",
    "    image_size=(img_height,img_width),\n",
    "    seed=123,\n",
    "    validation_split=0.2,\n",
    "    subset=\"training\"\n",
    ")"
   ]
  },
  {
   "cell_type": "code",
   "execution_count": 25,
   "metadata": {},
   "outputs": [
    {
     "name": "stdout",
     "output_type": "stream",
     "text": [
      "Found 2239 files belonging to 9 classes.\n",
      "Using 447 files for validation.\n"
     ]
    }
   ],
   "source": [
    "## Write your validation dataset here\n",
    "## Note use seed=123 while creating your dataset using tf.keras.preprocessing.image_dataset_from_directory\n",
    "## Note, make sure your resize your images to the size img_height*img_width, while writting the dataset\n",
    "val_ds = tf.keras.preprocessing.image_dataset_from_directory(\n",
    "    data_dir_train, \n",
    "    batch_size=batch_size,\n",
    "    image_size=(img_height,img_width),\n",
    "    seed=123,\n",
    "    validation_split=0.2,\n",
    "    subset=\"validation\"\n",
    ")"
   ]
  },
  {
   "cell_type": "code",
   "execution_count": 26,
   "metadata": {},
   "outputs": [
    {
     "name": "stdout",
     "output_type": "stream",
     "text": [
      "['actinic keratosis', 'basal cell carcinoma', 'dermatofibroma', 'melanoma', 'nevus', 'pigmented benign keratosis', 'seborrheic keratosis', 'squamous cell carcinoma', 'vascular lesion']\n",
      "9\n"
     ]
    }
   ],
   "source": [
    "# List out all the classes of skin cancer and store them in a list. \n",
    "# You can find the class names in the class_names attribute on these datasets. \n",
    "# These correspond to the directory names in alphabetical order.\n",
    "class_names = train_ds.class_names\n",
    "print(class_names)\n",
    "num_classes=len(class_names)\n",
    "print(num_classes)"
   ]
  },
  {
   "cell_type": "code",
   "execution_count": 29,
   "metadata": {},
   "outputs": [
    {
     "name": "stderr",
     "output_type": "stream",
     "text": [
      "\r",
      "Executing Pipeline:   0%|          | 0/500 [00:00<?, ? Samples/s]"
     ]
    },
    {
     "name": "stdout",
     "output_type": "stream",
     "text": [
      "Initialised with 2239 image(s) found.\n",
      "Output directory set to /home/parikshit.tomar/Desktop/Python/Upgrad/python/Resources/python-AI-LM/Upgrade/All Modules/5_Neural_Network/03_CNN_Assignmen/skin_cancer_ds/Train/output."
     ]
    },
    {
     "name": "stderr",
     "output_type": "stream",
     "text": [
      "Processing <PIL.Image.Image image mode=RGB size=600x450 at 0x7F050007CD30>: 100%|██████████| 500/500 [00:23<00:00, 20.96 Samples/s]                    \n",
      "Processing <PIL.Image.Image image mode=RGB size=600x450 at 0x7F05184A4220>:   0%|          | 1/500 [00:00<01:35,  5.22 Samples/s]"
     ]
    },
    {
     "name": "stdout",
     "output_type": "stream",
     "text": [
      "Initialised with 2239 image(s) found.\n",
      "Output directory set to /home/parikshit.tomar/Desktop/Python/Upgrad/python/Resources/python-AI-LM/Upgrade/All Modules/5_Neural_Network/03_CNN_Assignmen/skin_cancer_ds/Train/output."
     ]
    },
    {
     "name": "stderr",
     "output_type": "stream",
     "text": [
      "Processing <PIL.JpegImagePlugin.JpegImageFile image mode=RGB size=919x802 at 0x7F051855CB20>: 100%|██████████| 500/500 [00:30<00:00, 16.28 Samples/s]  \n",
      "Executing Pipeline:   0%|          | 0/500 [00:00<?, ? Samples/s]"
     ]
    },
    {
     "name": "stdout",
     "output_type": "stream",
     "text": [
      "Initialised with 2239 image(s) found.\n",
      "Output directory set to /home/parikshit.tomar/Desktop/Python/Upgrad/python/Resources/python-AI-LM/Upgrade/All Modules/5_Neural_Network/03_CNN_Assignmen/skin_cancer_ds/Train/output."
     ]
    },
    {
     "name": "stderr",
     "output_type": "stream",
     "text": [
      "Processing <PIL.JpegImagePlugin.JpegImageFile image mode=RGB size=600x450 at 0x7F051802E4F0>: 100%|██████████| 500/500 [00:26<00:00, 18.57 Samples/s]  \n",
      "Processing <PIL.JpegImagePlugin.JpegImageFile image mode=RGB size=1024x768 at 0x7F05185DD0A0>:   0%|          | 1/500 [00:00<00:59,  8.35 Samples/s]"
     ]
    },
    {
     "name": "stdout",
     "output_type": "stream",
     "text": [
      "Initialised with 2239 image(s) found.\n",
      "Output directory set to /home/parikshit.tomar/Desktop/Python/Upgrad/python/Resources/python-AI-LM/Upgrade/All Modules/5_Neural_Network/03_CNN_Assignmen/skin_cancer_ds/Train/output."
     ]
    },
    {
     "name": "stderr",
     "output_type": "stream",
     "text": [
      "Processing <PIL.Image.Image image mode=RGB size=600x450 at 0x7F051859D610>: 100%|██████████| 500/500 [00:22<00:00, 21.91 Samples/s]                    \n",
      "Processing <PIL.JpegImagePlugin.JpegImageFile image mode=RGB size=1024x768 at 0x7F0518026070>:   0%|          | 1/500 [00:00<01:12,  6.85 Samples/s]"
     ]
    },
    {
     "name": "stdout",
     "output_type": "stream",
     "text": [
      "Initialised with 2239 image(s) found.\n",
      "Output directory set to /home/parikshit.tomar/Desktop/Python/Upgrad/python/Resources/python-AI-LM/Upgrade/All Modules/5_Neural_Network/03_CNN_Assignmen/skin_cancer_ds/Train/output."
     ]
    },
    {
     "name": "stderr",
     "output_type": "stream",
     "text": [
      "Processing <PIL.Image.Image image mode=RGB size=600x450 at 0x7F05182DE880>: 100%|██████████| 500/500 [00:29<00:00, 17.18 Samples/s]                    \n",
      "Processing <PIL.Image.Image image mode=RGB size=600x450 at 0x7F051830B280>:   0%|          | 2/500 [00:00<00:26, 18.92 Samples/s]          "
     ]
    },
    {
     "name": "stdout",
     "output_type": "stream",
     "text": [
      "Initialised with 2239 image(s) found.\n",
      "Output directory set to /home/parikshit.tomar/Desktop/Python/Upgrad/python/Resources/python-AI-LM/Upgrade/All Modules/5_Neural_Network/03_CNN_Assignmen/skin_cancer_ds/Train/output."
     ]
    },
    {
     "name": "stderr",
     "output_type": "stream",
     "text": [
      "Processing <PIL.Image.Image image mode=RGB size=600x450 at 0x7F0518398400>: 100%|██████████| 500/500 [00:27<00:00, 18.30 Samples/s]                    \n",
      "Processing <PIL.JpegImagePlugin.JpegImageFile image mode=RGB size=600x450 at 0x7F05182DE2B0>:   0%|          | 1/500 [00:00<00:31, 15.86 Samples/s]"
     ]
    },
    {
     "name": "stdout",
     "output_type": "stream",
     "text": [
      "Initialised with 2239 image(s) found.\n",
      "Output directory set to /home/parikshit.tomar/Desktop/Python/Upgrad/python/Resources/python-AI-LM/Upgrade/All Modules/5_Neural_Network/03_CNN_Assignmen/skin_cancer_ds/Train/output."
     ]
    },
    {
     "name": "stderr",
     "output_type": "stream",
     "text": [
      "Processing <PIL.Image.Image image mode=RGB size=600x450 at 0x7F0518318AF0>: 100%|██████████| 500/500 [00:27<00:00, 18.42 Samples/s]                    \n",
      "Processing <PIL.Image.Image image mode=RGB size=600x450 at 0x7F050009FBE0>:   0%|          | 2/500 [00:00<00:31, 15.75 Samples/s]          "
     ]
    },
    {
     "name": "stdout",
     "output_type": "stream",
     "text": [
      "Initialised with 2239 image(s) found.\n",
      "Output directory set to /home/parikshit.tomar/Desktop/Python/Upgrad/python/Resources/python-AI-LM/Upgrade/All Modules/5_Neural_Network/03_CNN_Assignmen/skin_cancer_ds/Train/output."
     ]
    },
    {
     "name": "stderr",
     "output_type": "stream",
     "text": [
      "Processing <PIL.Image.Image image mode=RGB size=600x450 at 0x7F05182DE4F0>: 100%|██████████| 500/500 [00:27<00:00, 17.98 Samples/s]                    \n",
      "Processing <PIL.JpegImagePlugin.JpegImageFile image mode=RGB size=600x450 at 0x7F0500078C10>:   0%|          | 1/500 [00:00<01:33,  5.32 Samples/s]"
     ]
    },
    {
     "name": "stdout",
     "output_type": "stream",
     "text": [
      "Initialised with 2239 image(s) found.\n",
      "Output directory set to /home/parikshit.tomar/Desktop/Python/Upgrad/python/Resources/python-AI-LM/Upgrade/All Modules/5_Neural_Network/03_CNN_Assignmen/skin_cancer_ds/Train/output."
     ]
    },
    {
     "name": "stderr",
     "output_type": "stream",
     "text": [
      "Processing <PIL.JpegImagePlugin.JpegImageFile image mode=RGB size=600x450 at 0x7F05185B3E80>: 100%|██████████| 500/500 [00:31<00:00, 15.67 Samples/s]  \n"
     ]
    }
   ],
   "source": [
    "path_to_training_dataset=\"/home/parikshit.tomar/Desktop/Python/Upgrad/python/Resources/python-AI-LM/Upgrade/All Modules/5_Neural_Network/03_CNN_Assignmen/skin_cancer_ds/Train\"\n",
    "import Augmentor\n",
    "for i in class_names:\n",
    "    p = Augmentor.Pipeline(path_to_training_dataset)\n",
    "    p.rotate(probability=0.7, max_left_rotation=10, max_right_rotation=10)\n",
    "    p.sample(500) ## We are adding 500 samples per class to make sure that none of the classes are sparse."
   ]
  },
  {
   "cell_type": "code",
   "execution_count": 36,
   "metadata": {},
   "outputs": [
    {
     "name": "stdout",
     "output_type": "stream",
     "text": [
      "/home/parikshit.tomar/Desktop/Python/Upgrad/python/Resources/python-AI-LM/Upgrade/All Modules/5_Neural_Network/03_CNN_Assignmen/skin_cancer_ds/Train\n"
     ]
    }
   ],
   "source": [
    "print(data_dir_train)"
   ]
  },
  {
   "cell_type": "code",
   "execution_count": 37,
   "metadata": {},
   "outputs": [
    {
     "name": "stdout",
     "output_type": "stream",
     "text": [
      "0\n"
     ]
    }
   ],
   "source": [
    "image_count_train = len(list(data_dir_train.glob('*/output/*.jpg')))\n",
    "print(image_count_train)"
   ]
  },
  {
   "cell_type": "code",
   "execution_count": 38,
   "metadata": {},
   "outputs": [
    {
     "data": {
      "text/plain": [
       "[]"
      ]
     },
     "execution_count": 38,
     "metadata": {},
     "output_type": "execute_result"
    }
   ],
   "source": [
    "from glob import glob\n",
    "path_list = [x for x in glob(os.path.join(data_dir_train, '*','output', '*.jpg'))]\n",
    "path_list"
   ]
  },
  {
   "cell_type": "code",
   "execution_count": 39,
   "metadata": {},
   "outputs": [
    {
     "data": {
      "text/plain": [
       "[]"
      ]
     },
     "execution_count": 39,
     "metadata": {},
     "output_type": "execute_result"
    }
   ],
   "source": [
    "lesion_list_new = [os.path.basename(os.path.dirname(os.path.dirname(y))) for y in glob(os.path.join(data_dir_train, '*','output', '*.jpg'))]\n",
    "lesion_list_new"
   ]
  },
  {
   "cell_type": "code",
   "execution_count": null,
   "metadata": {},
   "outputs": [],
   "source": []
  },
  {
   "cell_type": "code",
   "execution_count": null,
   "metadata": {},
   "outputs": [],
   "source": []
  },
  {
   "cell_type": "code",
   "execution_count": null,
   "metadata": {},
   "outputs": [],
   "source": []
  }
 ],
 "metadata": {
  "kernelspec": {
   "display_name": "Python 3",
   "language": "python",
   "name": "python3"
  },
  "language_info": {
   "codemirror_mode": {
    "name": "ipython",
    "version": 3
   },
   "file_extension": ".py",
   "mimetype": "text/x-python",
   "name": "python",
   "nbconvert_exporter": "python",
   "pygments_lexer": "ipython3",
   "version": "3.8.3"
  }
 },
 "nbformat": 4,
 "nbformat_minor": 4
}
