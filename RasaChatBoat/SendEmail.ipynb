{
 "cells": [
  {
   "cell_type": "code",
   "execution_count": 5,
   "metadata": {},
   "outputs": [
    {
     "name": "stdout",
     "output_type": "stream",
     "text": [
      "Mail Sent\n"
     ]
    }
   ],
   "source": [
    "import smtplib\n",
    "from email.mime.multipart import MIMEMultipart\n",
    "from email.mime.text import MIMEText\n",
    "mail_content = 'Hello,This is a simple mail.'\n",
    "#The mail addresses and password\n",
    "sender_address = 'parikshitsinghtomar1988@gmail.com'\n",
    "sender_pass = 'My@Mobile_9908'\n",
    "receiver_address = 'parikshitsinghtomar1857@gmail.com'\n",
    "#Setup the MIME\n",
    "message = MIMEMultipart()\n",
    "message['From'] = sender_address\n",
    "message['To'] = receiver_address\n",
    "message['Subject'] = 'A test mail sent by Python. It has an attachment.'   #The subject line\n",
    "#The body and the attachments for the mail\n",
    "message.attach(MIMEText(mail_content, 'plain'))\n",
    "#Create SMTP session for sending the mail\n",
    "session = smtplib.SMTP('smtp.gmail.com', 587) #use gmail with port\n",
    "session.starttls() #enable security\n",
    "session.login(sender_address, sender_pass) #login with mail_id and password\n",
    "text = message.as_string()\n",
    "session.sendmail(sender_address, receiver_address, text)\n",
    "session.quit()\n",
    "print('Mail Sent')"
   ]
  },
  {
   "cell_type": "code",
   "execution_count": 13,
   "metadata": {},
   "outputs": [
    {
     "name": "stdout",
     "output_type": "stream",
     "text": [
      "lower range: 500\n",
      "No exception occurred\n",
      "Caught IndexError\n",
      "lower_range: 500\n",
      "upper_range: 0\n"
     ]
    }
   ],
   "source": [
    "import re\n",
    "Price=\"500\"\n",
    "upper_range=0\n",
    "lower_range=0\n",
    "list_range= re.findall(r'(\\d+)',Price)\n",
    "try:\n",
    "    lower_range=list_range[0]\n",
    "    print(F'lower range: {lower_range}')\n",
    "except IndexError:\n",
    "    print ('Caught IndexError')\n",
    "else:\n",
    "    print ('No exception occurred')\n",
    "try:\n",
    "    upper_range=list_range[1]\n",
    "    print(F'lower range: {upper_range}')\n",
    "except IndexError:\n",
    "    print ('Caught IndexError')\n",
    "else:\n",
    "    print ('No exception occurred')\n",
    "print(F\"lower_range: {lower_range}\")\n",
    "print(F\"upper_range: {upper_range}\")"
   ]
  },
  {
   "cell_type": "code",
   "execution_count": null,
   "metadata": {},
   "outputs": [],
   "source": []
  }
 ],
 "metadata": {
  "kernelspec": {
   "display_name": "Python 3",
   "language": "python",
   "name": "python3"
  },
  "language_info": {
   "codemirror_mode": {
    "name": "ipython",
    "version": 3
   },
   "file_extension": ".py",
   "mimetype": "text/x-python",
   "name": "python",
   "nbconvert_exporter": "python",
   "pygments_lexer": "ipython3",
   "version": "3.8.3"
  }
 },
 "nbformat": 4,
 "nbformat_minor": 4
}
